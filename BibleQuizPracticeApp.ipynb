{
 "cells": [
  {
   "cell_type": "markdown",
   "id": "2518bbe0",
   "metadata": {},
   "source": [
    "# Tech demo for Bible Quiz Practice App"
   ]
  },
  {
   "cell_type": "code",
   "execution_count": 16,
   "id": "2540bf86",
   "metadata": {},
   "outputs": [],
   "source": [
    "import re"
   ]
  },
  {
   "cell_type": "code",
   "execution_count": 41,
   "id": "d6cd6ed8",
   "metadata": {},
   "outputs": [],
   "source": [
    "galatians6=\"\"\"\n",
    "1 Brothers and sisters, if someone is caught in a sin, you who live by the Spirit should restore that person gently. But watch yourselves, or you also may be tempted. \n",
    "2 Carry each other’s burdens, and in this way you will fulfill the law of Christ. \n",
    "3 If anyone thinks they are something when they are not, they deceive themselves. \n",
    "4 Each one should test their own actions. Then they can take pride in themselves alone, without comparing themselves to someone else, \n",
    "5 for each one should carry their own load. \n",
    "6 Nevertheless, the one who receives instruction in the word should share all good things with their instructor.\n",
    "7 Do not be deceived: God cannot be mocked. A man reaps what he sows. \n",
    "8 Whoever sows to please their flesh, from the flesh will reap destruction; whoever sows to please the Spirit, from the Spirit will reap eternal life. \n",
    "9 Let us not become weary in doing good, for at the proper time we will reap a harvest if we do not give up. \n",
    "10 Therefore, as we have opportunity, let us do good to all people, especially to those who belong to the family of believers.\n",
    "11 See what large letters I use as I write to you with my own hand!\n",
    "12 Those who want to impress people by means of the flesh are trying to compel you to be circumcised. The only reason they do this is to avoid being persecuted for the cross of Christ. \n",
    "13 Not even those who are circumcised keep the law, yet they want you to be circumcised that they may boast about your circumcision in the flesh. \n",
    "14 May I never boast except in the cross of our Lord Jesus Christ, through which[a] the world has been crucified to me, and I to the world. \n",
    "15 Neither circumcision nor uncircumcision means anything; what counts is the new creation. \n",
    "16 Peace and mercy to all who follow this rule—to the Israel of God.\n",
    "17 From now on, let no one cause me trouble, for I bear on my body the marks of Jesus.\n",
    "18 The grace of our Lord Jesus Christ be with your spirit, brothers and sisters. Amen.\n",
    "\"\"\"\n"
   ]
  },
  {
   "cell_type": "code",
   "execution_count": 42,
   "id": "ce6db35f",
   "metadata": {},
   "outputs": [],
   "source": [
    "verses = galatians6.split('\\n')\n"
   ]
  },
  {
   "cell_type": "code",
   "execution_count": 43,
   "id": "358bd1a8",
   "metadata": {},
   "outputs": [],
   "source": [
    "words = []\n",
    "for v in verses:\n",
    "    words += re.split('[^a-zA-Z0-9]', v)\n"
   ]
  },
  {
   "cell_type": "code",
   "execution_count": 44,
   "id": "6575f742",
   "metadata": {},
   "outputs": [],
   "source": [
    "words_ct = {}\n",
    "for w in words:\n",
    "    if w in words_ct:\n",
    "        words_ct[w] += 1\n",
    "    else:\n",
    "        words_ct[w] = 1\n",
    "        "
   ]
  },
  {
   "cell_type": "code",
   "execution_count": 45,
   "id": "56fef985",
   "metadata": {},
   "outputs": [],
   "source": [
    "keywords = []\n",
    "for w, c in words_ct.items():\n",
    "    if c == 1:\n",
    "        keywords.append(w)\n",
    "        "
   ]
  },
  {
   "cell_type": "code",
   "execution_count": 57,
   "id": "6586d9f9",
   "metadata": {},
   "outputs": [
    {
     "data": {
      "text/plain": [
       "['test',\n",
       " 'actions',\n",
       " 'Then',\n",
       " 'can',\n",
       " 'take',\n",
       " 'pride',\n",
       " 'alone',\n",
       " 'without',\n",
       " 'comparing',\n",
       " 'else']"
      ]
     },
     "execution_count": 57,
     "metadata": {},
     "output_type": "execute_result"
    }
   ],
   "source": [
    "keywords[30:40]"
   ]
  },
  {
   "cell_type": "code",
   "execution_count": 48,
   "id": "14832f1c",
   "metadata": {},
   "outputs": [
    {
     "data": {
      "text/plain": [
       "['', '1', 'Brothers', 'and', 'sisters', '', 'if', 'someone', 'is', 'caught']"
      ]
     },
     "execution_count": 48,
     "metadata": {},
     "output_type": "execute_result"
    }
   ],
   "source": [
    "words[:10]"
   ]
  },
  {
   "cell_type": "code",
   "execution_count": 55,
   "id": "936e2d2a",
   "metadata": {},
   "outputs": [
    {
     "data": {
      "text/plain": [
       "1"
      ]
     },
     "execution_count": 55,
     "metadata": {},
     "output_type": "execute_result"
    }
   ],
   "source": [
    "galatians6.count('Brothers and')"
   ]
  },
  {
   "cell_type": "code",
   "execution_count": 56,
   "id": "a333c691",
   "metadata": {},
   "outputs": [
    {
     "data": {
      "text/plain": [
       "' 1 Brothers'"
      ]
     },
     "execution_count": 56,
     "metadata": {},
     "output_type": "execute_result"
    }
   ],
   "source": [
    "' '.join(words[0:3])"
   ]
  },
  {
   "cell_type": "code",
   "execution_count": 61,
   "id": "d7584575",
   "metadata": {},
   "outputs": [
    {
     "data": {
      "text/plain": [
       "'\\n15 Neither circumcision nor uncircumcision means anything; what counts is the new creation. \\n'"
      ]
     },
     "execution_count": 61,
     "metadata": {},
     "output_type": "execute_result"
    }
   ],
   "source": [
    "re.findall('\\n.*Neither.*\\n', galatians6 )[0]"
   ]
  },
  {
   "cell_type": "code",
   "execution_count": null,
   "id": "fbd0a825",
   "metadata": {},
   "outputs": [],
   "source": []
  }
 ],
 "metadata": {
  "kernelspec": {
   "display_name": "Python 3 (ipykernel)",
   "language": "python",
   "name": "python3"
  },
  "language_info": {
   "codemirror_mode": {
    "name": "ipython",
    "version": 3
   },
   "file_extension": ".py",
   "mimetype": "text/x-python",
   "name": "python",
   "nbconvert_exporter": "python",
   "pygments_lexer": "ipython3",
   "version": "3.11.3"
  }
 },
 "nbformat": 4,
 "nbformat_minor": 5
}
